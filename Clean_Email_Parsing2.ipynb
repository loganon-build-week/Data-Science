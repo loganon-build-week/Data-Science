{
 "cells": [
  {
   "cell_type": "code",
   "execution_count": 1,
   "metadata": {},
   "outputs": [],
   "source": [
    "from decouple import config\n",
    "import poplib\n",
    "from email import parser\n",
    "import re\n",
    "\n",
    "EMAIL_HOST_USER = 'loganon000' #config('EMAIL_HOST_USER')\n",
    "EMAIL_HOST_PASSWORD = '42lambda' #config('EMAIL_HOST_PASSWORD')\n"
   ]
  },
  {
   "cell_type": "code",
   "execution_count": 2,
   "metadata": {},
   "outputs": [],
   "source": [
    "def get_messages(user, password, server = 'pop.gmail.com'):\n",
    "    \n",
    "    pop_conn = poplib.POP3_SSL(server)\n",
    "    pop_conn.user(user)\n",
    "    pop_conn.pass_(password)\n",
    "    \n",
    "    #Get message tuples from server:\n",
    "    tuples = [pop_conn.retr(i) for i in range(1, len(pop_conn.list()[1]) + 1)]\n",
    "    pop_conn.quit()\n",
    "#     messages = [msg[1] for msg in tuples]\n",
    "#     clean_text = [\" \".join([str(line).strip('b').strip(\"'\") for line in msg for msg in messages])]\n",
    "    return tuples"
   ]
  },
  {
   "cell_type": "code",
   "execution_count": 3,
   "metadata": {},
   "outputs": [],
   "source": [
    "test = get_messages(EMAIL_HOST_USER, EMAIL_HOST_PASSWORD)"
   ]
  },
  {
   "cell_type": "code",
   "execution_count": 4,
   "metadata": {},
   "outputs": [],
   "source": [
    "test_messages = [msg[1] for msg in test]"
   ]
  },
  {
   "cell_type": "code",
   "execution_count": 5,
   "metadata": {},
   "outputs": [
    {
     "name": "stdout",
     "output_type": "stream",
     "text": [
      "[b'Delivered-To: loganon000@gmail.com', b'Received: by 2002:a17:90a:2a02:0:0:0:0 with SMTP id i2csp6530775pjd;', b'        Wed, 31 Jul 2019 16:23:02 -0700 (PDT)', b'X-Google-Smtp-Source: APXvYqymXRf32M7sTsTIDcDaH/8JRZ1u3D5cRF7ivw0kOuSg8xxoY+fGnAnS8Ddp7aea/jXIUQZt', b'X-Received: by 2002:a5e:a712:: with SMTP id b18mr9843093iod.220.1564615382323;', b'        Wed, 31 Jul 2019 16:23:02 -0700 (PDT)', b'ARC-Seal: i=1; a=rsa-sha256; t=1564615382; cv=none;', b'        d=google.com; s=arc-20160816;', b'        b=ndrIkhN/bOxc/CAyVcLmvKCiwqYhbxHeB/2PaPwyNUCM0T4xoeC0fHwNuTiEWm72t8', b'         DN3wPAm9sL3JSvxbNN5kyEogeeGly8wt+7BO1NsEWyTBUhYkcm7XvrBnK8Et2FMVQYrX', b'         CgNDBJPKcffrpDqk2fPggrW+fy4RXRGOtRUWtCPkqyE8Q4eH5p0hh9FZo5zGTBWTtl12', b'         PClJxdr0SWEk9zy1j+lAP2eNPxzr5iBdKGqI+wLoGMnapVUPh2qu8sZckEqdVL7SF3R0', b'         ZK03hr93vsQ8mWx1ZeYu0Y8lr4Lx8jQGeCgq4zk/uqIqtRmp3360x4MAadM1jUc6m7Rd', b'         DEaQ==', b'ARC-Message-Signature: i=1; a=rsa-sha256; c=relaxed/relaxed; d=google.com; s=arc-20160816;', b'        h=references:mime-version:subject:message-id:to:from:date', b'         :dkim-signature;', b'        bh=qof5i1t3kDhNEL5wB7OaSqV4uto1uQxT70W/kvfYXy4=;', b'        b=Hf3QAuL9OjeWUt+xe6V1pVuARYvkIJx0SGZIcaAO1lBHfU8toOt+GIlm+ZYKsMTLV/', b'         v0N+hMsBTZURunV5Uo9x8dbeQg5CIv4k9XXA92/woHCh7nNOYF4Va9N74IUJl76Of5yJ', b'         167shs/M4K7g4Q7+XsP3AH8lwH3bvb/cl0heUF0Q2LVtRqvjc0kIYIoTHeGGYJ5vtTqz', b'         LMVU2AzkI0Kp07grX7mDZzNR+N4OqoXtRy4NywVtxsgJQi+VbjqEM98moTzcGLQkVD9H', b'         xGdj/BV9TPyI+eXlx7FKHUkRluwcCzhpG42/LBExOO6rBMvj64yqZqfUtPyipsIJywqP', b'         VVuA==', b'ARC-Authentication-Results: i=1; mx.google.com;', b'       dkim=pass header.i=@ymail.com header.s=s2048 header.b=evd4XirP;', b'       spf=pass (google.com: domain of kevjab@ymail.com designates 74.6.128.33 as permitted sender) smtp.mailfrom=kevjab@ymail.com;', b'       dmarc=pass (p=REJECT sp=REJECT dis=NONE) header.from=ymail.com', b'Return-Path: <kevjab@ymail.com>', b'Received: from sonic304-10.consmr.mail.bf2.yahoo.com (sonic304-10.consmr.mail.bf2.yahoo.com. [74.6.128.33])', b'        by mx.google.com with ESMTPS id q84si97000943jaq.79.2019.07.31.16.23.02', b'        for <loganon000@gmail.com>', b'        (version=TLS1_2 cipher=ECDHE-RSA-AES128-GCM-SHA256 bits=128/128);', b'        Wed, 31 Jul 2019 16:23:02 -0700 (PDT)', b'Received-SPF: pass (google.com: domain of kevjab@ymail.com designates 74.6.128.33 as permitted sender) client-ip=74.6.128.33;', b'Authentication-Results: mx.google.com;', b'       dkim=pass header.i=@ymail.com header.s=s2048 header.b=evd4XirP;', b'       spf=pass (google.com: domain of kevjab@ymail.com designates 74.6.128.33 as permitted sender) smtp.mailfrom=kevjab@ymail.com;', b'       dmarc=pass (p=REJECT sp=REJECT dis=NONE) header.from=ymail.com', b'DKIM-Signature: v=1; a=rsa-sha256; c=relaxed/relaxed; d=ymail.com; s=s2048; t=1564615381; bh=qof5i1t3kDhNEL5wB7OaSqV4uto1uQxT70W/kvfYXy4=; h=Date:From:To:Subject:References:From:Subject; b=evd4XirP0iMSY46OY5Q1KEx4GuZSYymUKZSdxGBypuFopWc8Jf0mHqhF3P5ca5XygLaQLlFJeX8IQdY6Ak26cyVDXhbm7wsC0EMlrrceDlObvVgBO0xQXUNyd2C0LdAVE4gkfZ0o80/xbdXHPYhsTHSlRUO3WxXsbGFQjuECCJwRwaTgfdJ4cNo6T8GkQn7EHQyn69588Y9btNS5tj+YE5zV10DKnLawGTB21mzFET0tD8tIfM7w3lGEAFNaXDuBVwB8vsuzUEAiS0mUdWG4TFFXBfI6oRH3DqmhO6mDVCAzejwbl0L4M//H/0jQwh6i+bFsYCtIN9A6L1gnitikTA==', b'X-YMail-OSG: GdqeGIcVM1n3mwNKF4DRbx_APc1uaMc6oHWy5wP3tafJAUy8hmtYV1XLyLvvnrJ', b' S99lmfoAGdCZVUZttz5Tf6TRiR79s2KtIMF7KFAf67r7YVLxZDF3XvAJHOppkUFKlWEcWdCAmnCe', b' R7ac58rcvTJgD.Nf.mzwCOGoRrITwRWn71WFGCjJAVHvUn0TbkokxupS3TdoWEWhqtDD0MXc01i.', b' J0QEZONeeegLxrQCx7s60PGzfZHo7E2vIT.xPaTRTwBWBn3tW3HptOhcV1PtiIXKZu_Khw6o9LOZ', b' oZeo3RBegcFWc2UgaTK6lKX2RjhBtyhCzTNm3DaBAFiDTUyoMzmfxj8bEMtjO97Cii3V3ZR7MwUn', b' 8avYIsXHJAsu053iInVtxpdXrsZ8d3hJVBH5xLECLLhjPMaRaqfHT2QqpKO.CF2zVjgVNKRjEzT8', b' ppJ1t_8S5iisQKYBh32_dF2xI5jjHUNPDNn4aR6Ilhm02QMWWCpKl4BJjqHIsbvDWhi4hPlHwnlt', b' .WXq99i_2GH1sRB0AxpIJg5ttvLx6YZMpYf1yxZNGkFlZsJMdNMnRsxqAsNr2njoyd0cUDg9AYdn', b' SJpLe2EsJU1nLWT5O8FkUPlYoq8WWUzNPHCg6Qs.dTDd.E9xAg7dcremKW.dTHHz3AEpcLt_oFDz', b' H_b8XvC_TiSJ3hlH4k2viXU3Yi4.2XgUDM8kIgFCFZjm24_o9xCw.5GEiZQb5MUAf03em0lG7Rgz', b' fJ8HOShgEpzT7rgXq.PTciKrIhwvA0fFor4yTOPt1dgiCxvgMNJWoZosHNItMV_qoEIRa9mN4uBP', b' 0snRAyVizmMbjd6CcTLEBrHYlrFIapH9.ZD34WRzVN6Vc2XxmLUwu.QR6nMs3Y3aU1p1Xjc1WvB8', b' caMoVm9I5_4hXzpcHD14vYVqwyhAs4UphV8.Jw_JUx1Q2DOQ5sRGrIZsfSzxHYglpfqmGrUnvS0X', b' uL_OQx._WQeb2qN2xw2R2NwYePYM5L5aMz_SPpxKGeFZHG6fE5vTcOkQlL2.KdgQvp_law8qzi4p', b' AAhA1jbHxwW6ZRsnT8fKZug1lP0ZcoawLDVQ3SfZg0ZPIBcBLjwowQ2wcYJ3TbaN.xeWhZRyVZWp', b' GVUVUxVg0lCYSPODj0RhXzEutT6.LLZn2wLwKdr9AouHNhpkgEqCfp5jZnSjn2McAXiFMJ.wq21P', b' Qm6bE02EhLUrh5R8bmkTU3zusq61otonKRqbKJEsyfsb2hMCRxvyFfqcgFmcx.2mJo9pBExh9p75', b' smT20Lgagb1mgTQ.wczg6g17rXqvF56A-', b'Received: from sonic.gate.mail.ne1.yahoo.com by sonic304.consmr.mail.bf2.yahoo.com with HTTP; Wed, 31 Jul 2019 23:23:01 +0000', b'Date: Wed, 31 Jul 2019 23:23:00 +0000 (UTC)', b'From: Kevona Webb <kevjab@ymail.com>', b'To: \"loganon000@gmail.com\" <loganon000@gmail.com>', b'Message-ID: <337487541.353959.1564615380118@mail.yahoo.com>', b'Subject: test', b'MIME-Version: 1.0', b'Content-Type: multipart/alternative; ', b'\\tboundary=\"----=_Part_353958_1921266805.1564615380117\"', b'References: <337487541.353959.1564615380118.ref@mail.yahoo.com>', b'X-Mailer: WebService/1.1.13991 YMailNorrin Mozilla/5.0 (Windows NT 10.0; Win64; x64; rv:68.0) Gecko/20100101 Firefox/68.0', b'Content-Length: 5963', b'', b'------=_Part_353958_1921266805.1564615380117', b'Content-Type: text/plain; charset=UTF-8', b'Content-Transfer-Encoding: 7bit', b'', b'Google', b'', b'| ', b'| ', b'| ', b'|  |  |', b'', b' |', b'', b' |', b'| ', b'|  | ', b'Google', b'', b\"Search the world's information, including webpages, images, videos and more. Google has many special features to...\", b' |', b'', b' |', b'', b' |', b'', b'', b'', b'', b'------=_Part_353958_1921266805.1564615380117', b'Content-Type: text/html; charset=UTF-8', b'Content-Transfer-Encoding: quoted-printable', b'', b'<html xmlns=3D\"http://www.w3.org/1999/xhtml\" xmlns:v=3D\"urn:schemas-microso=', b'ft-com:vml\" xmlns:o=3D\"urn:schemas-microsoft-com:office:office\"><head><!--[=', b'if gte mso 9]><xml><o:OfficeDocumentSettings><o:AllowPNG/><o:PixelsPerInch>=', b'96</o:PixelsPerInch></o:OfficeDocumentSettings></xml><![endif]--></head><bo=', b'dy><div class=3D\"yahoo-style-wrap\" style=3D\"font-family:Helvetica Neue, Hel=', b'vetica, Arial, sans-serif;font-size:13px;\"><div dir=3D\"ltr\" data-setdir=3D\"=', b'false\"><a href=3D\"https://www.google.com/\" rel=3D\"nofollow\" target=3D\"_blan=', b'k\" class=3D\"enhancr_card_5555517333\">Google</a></div><div><br></div><div id=', b'=3D\"ydpe19b9cd9enhancr_card_5555517333\" class=3D\"ydpe19b9cd9yahoo-link-enha=', b'ncr-card ydpe19b9cd9ymail-preserve-class ydpe19b9cd9ymail-preserve-style\" s=', b'tyle=3D\"max-width:400px;font-family:&quot;Helvetica Neue&quot;, &quot;Segoe=', b' UI&quot;, Helvetica, Arial, sans-serif\" data-url=3D\"https://www.google.com=', b'/\" data-type=3D\"YENHANCER\" data-size=3D\"MEDIUM\" contenteditable=3D\"false\"><=', b'a href=3D\"https://www.google.com/\" style=3D\"text-decoration:none !important=', b';color:#000 !important\" class=3D\"ydpe19b9cd9yahoo-enhancr-cardlink\" rel=3D\"=', b'nofollow\" target=3D\"_blank\"><table class=3D\"ydpe19b9cd9card-wrapper ydpe19b=', b'9cd9yahoo-ignore-table\" style=3D\"max-width:400px\" cellspacing=3D\"0\" cellpad=', b'ding=3D\"0\" border=3D\"0\"><tbody><tr><td width=3D\"400\"><table class=3D\"ydpe19=', b'b9cd9card ydpe19b9cd9yahoo-ignore-table\" style=3D\"max-width:400px;border-wi=', b'dth:1px;border-style:solid;border-color:rgb(224, 228, 233);border-radius:2p=', b'x\" width=3D\"100%\" cellspacing=3D\"0\" cellpadding=3D\"0\" border=3D\"0\"><tbody><=', b'tr><td class=3D\"ydpe19b9cd9card-primary-image-cell\" style=3D\"background-col=', b'or: rgb(0, 0, 0); background-repeat: no-repeat; background-size: cover; pos=', b'ition: relative; border-radius: 2px 2px 0px 0px; min-height: 175px;\" valign=', b'=3D\"top\" height=3D\"175\" bgcolor=3D\"#000000\" background=3D\"https://s.yimg.co=', b'm/lo/api/res/1.2/3F2Zo6ZQv9jiAqZm8bbAqQ--~A/Zmk9ZmlsbDt3PTQwMDtoPTIwMDthcHB=', b'pZD1pZXh0cmFjdA--/https://www.google.com/images/branding/googlelogo/1x/goog=', b'lelogo_white_background_color_272x92dp.png.cf.jpg\"><!--[if gte mso 9]><v:re=', b'ct fill=3D\"true\" stroke=3D\"false\" style=3D\"width:396px;height:175px;positio=', b'n:absolute;top:0;left:0;\"><v:fill type=3D\"frame\" color=3D\"#000000\" src=3D\"h=', b'ttps://s.yimg.com/lo/api/res/1.2/3F2Zo6ZQv9jiAqZm8bbAqQ--~A/Zmk9ZmlsbDt3PTQ=', b'wMDtoPTIwMDthcHBpZD1pZXh0cmFjdA--/https://www.google.com/images/branding/go=', b'oglelogo/1x/googlelogo_white_background_color_272x92dp.png.cf.jpg\"/></v:rec=', b't><![endif]--><table class=3D\"ydpe19b9cd9card-overlay-container-table ydpe1=', b'9b9cd9yahoo-ignore-table\" style=3D\"width:100%\" cellspacing=3D\"0\" cellpaddin=', b'g=3D\"0\" border=3D\"0\"><tbody><tr><td class=3D\"ydpe19b9cd9card-overlay-cell\" =', b'style=3D\"background-color: transparent; border-radius: 2px 2px 0px 0px; min=', b'-height: 175px;\" valign=3D\"top\" bgcolor=3D\"transparent\" background=3D\"https=', b'://s.yimg.com/cv/ae/nq/storm/assets/enhancrV21/1/enhancr_gradient-400x175.p=', b'ng\"><!--[if gte mso 9]><v:rect fill=3D\"true\" stroke=3D\"false\" style=3D\"widt=', b'h:396px;height:175px;position:absolute;top:-18px;left:0;\"><v:fill type=3D\"p=', b'attern\" color=3D\"#000000\" src=3D\"https://s.yimg.com/cv/ae/nq/storm/assets/e=', b'nhancrV21/1/enhancr_gradient-400x175.png\"/><v:textbox inset=3D\"0,0,20px,0\">=', b'<![endif]--><table class=3D\"ydpe19b9cd9yahoo-ignore-table\" style=3D\"width: =', b'100%; min-height: 175px;\" height=3D\"175\" border=3D\"0\"><tbody><tr><td class=', b'=3D\"ydpe19b9cd9card-richInfo2\" style=3D\"text-align:left;padding:15px 0 0 15=', b'px;vertical-align:top\"></td><td class=3D\"ydpe19b9cd9card-actions\" style=3D\"=', b'text-align:right;padding:15px 15px 0 0;vertical-align:top\"><div class=3D\"yd=', b'pe19b9cd9card-share-container\"></div></td></tr></tbody></table><!--[if gte =', b'mso 9]></v:textbox></v:rect><![endif]--></td></tr></tbody></table></td></tr=', b'><tr><td><table class=3D\"ydpe19b9cd9card-info ydpe19b9cd9yahoo-ignore-table=', b'\" style=3D\"background-color: rgb(255, 255, 255); background-repeat: repeat;=', b' background-attachment: scroll; background-image: none; background-size: au=', b'to; position: relative; z-index: 2; width: 100%; max-width: 400px; border-r=', b'adius: 0px 0px 2px 2px; border-top: 1px solid rgb(224, 228, 233);\" cellspac=', b'ing=3D\"0\" cellpadding=3D\"0\" border=3D\"0\" align=3D\"center\"><tbody><tr><td st=', b'yle=3D\"background-color:#ffffff;padding:16px 0 16px 12px;vertical-align:top=', b';border-radius:0 0 0 2px\"><img class=3D\"ydpe19b9cd9card-object-1 ydpe19b9cd=', b'9yahoo-ignore-inline-image ydpe19b9cd9ymail-preserve-class\" src=3D\"https://=', b's.yimg.com/nq/storm/assets/enhancrV2/23/logos/google.png\" style=3D\"min-widt=', b'h:36px;margin-top:3px\" height=3D\"36\"></td><td style=3D\"vertical-align:middl=', b'e;padding:12px 24px 16px 12px;width:99%;font-family:&quot;Helvetica Neue&qu=', b'ot;, &quot;Segoe UI&quot;, Helvetica, Arial, sans-serif;border-radius:0 0 2=', b'px 0\"><h2 class=3D\"ydpe19b9cd9card-title\" style=3D\"font-size: 14px; line-he=', b'ight: 19px; margin: 0px 0px 6px; font-family: &quot;Helvetica Neue&quot;, &=', b'quot;Segoe UI&quot;, Helvetica, Arial, sans-serif; color: rgb(38, 40, 42);\"=', b'>Google</h2><p class=3D\"ydpe19b9cd9card-description\" style=3D\"font-size: 12=', b'px; line-height: 16px; margin: 0px; color: rgb(151, 155, 167);\">Search the =', b\"world's information, including webpages, images, videos and more. Google ha=\", b's many special features to...</p></td></tr></tbody></table></td></tr></tbod=', b'y></table></td></tr></tbody></table></a></div><div><br></div><div><br></div=', b'></div></body></html>', b'------=_Part_353958_1921266805.1564615380117--']\n"
     ]
    }
   ],
   "source": [
    "print(test_messages[0])"
   ]
  },
  {
   "cell_type": "code",
   "execution_count": 10,
   "metadata": {},
   "outputs": [
    {
     "name": "stdout",
     "output_type": "stream",
     "text": [
      "Original string:  Delivered-To: loganon000@gmail.com Received: by 2002:a17:90a:2a02:0:0:0:0 with SMTP id i2csp6530775pjd;         Wed, 31 Jul 2019 16:23:02 -0700 (PDT) X-Google-Smtp-Source: APXvYqymXRf32M7sTsTIDcDaH/8JRZ1u3D5cRF7ivw0kOuSg8xxoY+fGnAnS8Ddp7aea/jXIUQZt X-Received: by 2002:a5e:a712:: with SMTP id b18mr9843093iod.220.1564615382323;         Wed, 31 Jul 2019 16:23:02 -0700 (PDT) ARC-Seal: i=1; a=rsa-sha256; t=1564615382; cv=none;         d=google.com; s=arc-20160816;         b=ndrIkhN/bOxc/CAyVcLmvKCiwqYhbxHeB/2PaPwyNUCM0T4xoeC0fHwNuTiEWm72t8          DN3wPAm9sL3JSvxbNN5kyEogeeGly8wt+7BO1NsEWyTBUhYkcm7XvrBnK8Et2FMVQYrX          CgNDBJPKcffrpDqk2fPggrW+fy4RXRGOtRUWtCPkqyE8Q4eH5p0hh9FZo5zGTBWTtl12          PClJxdr0SWEk9zy1j+lAP2eNPxzr5iBdKGqI+wLoGMnapVUPh2qu8sZckEqdVL7SF3R0          ZK03hr93vsQ8mWx1ZeYu0Y8lr4Lx8jQGeCgq4zk/uqIqtRmp3360x4MAadM1jUc6m7Rd          DEaQ== ARC-Message-Signature: i=1; a=rsa-sha256; c=relaxed/relaxed; d=google.com; s=arc-20160816;         h=references:mime-version:subject:message-id:to:from:date          :dkim-signature;         bh=qof5i1t3kDhNEL5wB7OaSqV4uto1uQxT70W/kvfYXy4=;         b=Hf3QAuL9OjeWUt+xe6V1pVuARYvkIJx0SGZIcaAO1lBHfU8toOt+GIlm+ZYKsMTLV/          v0N+hMsBTZURunV5Uo9x8dbeQg5CIv4k9XXA92/woHCh7nNOYF4Va9N74IUJl76Of5yJ          167shs/M4K7g4Q7+XsP3AH8lwH3bvb/cl0heUF0Q2LVtRqvjc0kIYIoTHeGGYJ5vtTqz          LMVU2AzkI0Kp07grX7mDZzNR+N4OqoXtRy4NywVtxsgJQi+VbjqEM98moTzcGLQkVD9H          xGdj/BV9TPyI+eXlx7FKHUkRluwcCzhpG42/LBExOO6rBMvj64yqZqfUtPyipsIJywqP          VVuA== ARC-Authentication-Results: i=1; mx.google.com;        dkim=pass header.i=@ymail.com header.s=s2048 header.b=evd4XirP;        spf=pass (google.com: domain of kevjab@ymail.com designates 74.6.128.33 as permitted sender) smtp.mailfrom=kevjab@ymail.com;        dmarc=pass (p=REJECT sp=REJECT dis=NONE) header.from=ymail.com Return-Path: <kevjab@ymail.com> Received: from sonic304-10.consmr.mail.bf2.yahoo.com (sonic304-10.consmr.mail.bf2.yahoo.com. [74.6.128.33])         by mx.google.com with ESMTPS id q84si97000943jaq.79.2019.07.31.16.23.02         for <loganon000@gmail.com>         (version=TLS1_2 cipher=ECDHE-RSA-AES128-GCM-SHA256 bits=128/128);         Wed, 31 Jul 2019 16:23:02 -0700 (PDT) Received-SPF: pass (google.com: domain of kevjab@ymail.com designates 74.6.128.33 as permitted sender) client-ip=74.6.128.33; Authentication-Results: mx.google.com;        dkim=pass header.i=@ymail.com header.s=s2048 header.b=evd4XirP;        spf=pass (google.com: domain of kevjab@ymail.com designates 74.6.128.33 as permitted sender) smtp.mailfrom=kevjab@ymail.com;        dmarc=pass (p=REJECT sp=REJECT dis=NONE) header.from=ymail.com DKIM-Signature: v=1; a=rsa-sha256; c=relaxed/relaxed; d=ymail.com; s=s2048; t=1564615381; bh=qof5i1t3kDhNEL5wB7OaSqV4uto1uQxT70W/kvfYXy4=; h=Date:From:To:Subject:References:From:Subject; b=evd4XirP0iMSY46OY5Q1KEx4GuZSYymUKZSdxGBypuFopWc8Jf0mHqhF3P5ca5XygLaQLlFJeX8IQdY6Ak26cyVDXhbm7wsC0EMlrrceDlObvVgBO0xQXUNyd2C0LdAVE4gkfZ0o80/xbdXHPYhsTHSlRUO3WxXsbGFQjuECCJwRwaTgfdJ4cNo6T8GkQn7EHQyn69588Y9btNS5tj+YE5zV10DKnLawGTB21mzFET0tD8tIfM7w3lGEAFNaXDuBVwB8vsuzUEAiS0mUdWG4TFFXBfI6oRH3DqmhO6mDVCAzejwbl0L4M//H/0jQwh6i+bFsYCtIN9A6L1gnitikTA== X-YMail-OSG: GdqeGIcVM1n3mwNKF4DRbx_APc1uaMc6oHWy5wP3tafJAUy8hmtYV1XLyLvvnrJ  S99lmfoAGdCZVUZttz5Tf6TRiR79s2KtIMF7KFAf67r7YVLxZDF3XvAJHOppkUFKlWEcWdCAmnCe  R7ac58rcvTJgD.Nf.mzwCOGoRrITwRWn71WFGCjJAVHvUn0TbkokxupS3TdoWEWhqtDD0MXc01i.  J0QEZONeeegLxrQCx7s60PGzfZHo7E2vIT.xPaTRTwBWBn3tW3HptOhcV1PtiIXKZu_Khw6o9LOZ  oZeo3RBegcFWc2UgaTK6lKX2RjhBtyhCzTNm3DaBAFiDTUyoMzmfxj8bEMtjO97Cii3V3ZR7MwUn  8avYIsXHJAsu053iInVtxpdXrsZ8d3hJVBH5xLECLLhjPMaRaqfHT2QqpKO.CF2zVjgVNKRjEzT8  ppJ1t_8S5iisQKYBh32_dF2xI5jjHUNPDNn4aR6Ilhm02QMWWCpKl4BJjqHIsbvDWhi4hPlHwnlt  .WXq99i_2GH1sRB0AxpIJg5ttvLx6YZMpYf1yxZNGkFlZsJMdNMnRsxqAsNr2njoyd0cUDg9AYdn  SJpLe2EsJU1nLWT5O8FkUPlYoq8WWUzNPHCg6Qs.dTDd.E9xAg7dcremKW.dTHHz3AEpcLt_oFDz  H_b8XvC_TiSJ3hlH4k2viXU3Yi4.2XgUDM8kIgFCFZjm24_o9xCw.5GEiZQb5MUAf03em0lG7Rgz  fJ8HOShgEpzT7rgXq.PTciKrIhwvA0fFor4yTOPt1dgiCxvgMNJWoZosHNItMV_qoEIRa9mN4uBP  0snRAyVizmMbjd6CcTLEBrHYlrFIapH9.ZD34WRzVN6Vc2XxmLUwu.QR6nMs3Y3aU1p1Xjc1WvB8  caMoVm9I5_4hXzpcHD14vYVqwyhAs4UphV8.Jw_JUx1Q2DOQ5sRGrIZsfSzxHYglpfqmGrUnvS0X  uL_OQx._WQeb2qN2xw2R2NwYePYM5L5aMz_SPpxKGeFZHG6fE5vTcOkQlL2.KdgQvp_law8qzi4p  AAhA1jbHxwW6ZRsnT8fKZug1lP0ZcoawLDVQ3SfZg0ZPIBcBLjwowQ2wcYJ3TbaN.xeWhZRyVZWp  GVUVUxVg0lCYSPODj0RhXzEutT6.LLZn2wLwKdr9AouHNhpkgEqCfp5jZnSjn2McAXiFMJ.wq21P  Qm6bE02EhLUrh5R8bmkTU3zusq61otonKRqbKJEsyfsb2hMCRxvyFfqcgFmcx.2mJo9pBExh9p75  smT20Lgagb1mgTQ.wczg6g17rXqvF56A- Received: from sonic.gate.mail.ne1.yahoo.com by sonic304.consmr.mail.bf2.yahoo.com with HTTP; Wed, 31 Jul 2019 23:23:01 +0000 Date: Wed, 31 Jul 2019 23:23:00 +0000 (UTC) From: Kevona Webb <kevjab@ymail.com> To: \"loganon000@gmail.com\" <loganon000@gmail.com> Message-ID: <337487541.353959.1564615380118@mail.yahoo.com> Subject: test MIME-Version: 1.0 Content-Type: multipart/alternative;  \\tboundary=\"----=_Part_353958_1921266805.1564615380117\" References: <337487541.353959.1564615380118.ref@mail.yahoo.com> X-Mailer: WebService/1.1.13991 YMailNorrin Mozilla/5.0 (Windows NT 10.0; Win64; x64; rv:68.0) Gecko/20100101 Firefox/68.0 Content-Length: 5963  ------=_Part_353958_1921266805.1564615380117 Content-Type: text/plain; charset=UTF-8 Content-Transfer-Encoding: 7bit  Google  |  |  |  |  |  |   |   | |  |  |  Google  \"Search the world's information, including webpages, images, videos and more. Google has many special features to...\"  |   |   |     ------=_Part_353958_1921266805.1564615380117 Content-Type: text/html; charset=UTF-8 Content-Transfer-Encoding: quoted-printable  <html xmlns=3D\"http://www.w3.org/1999/xhtml\" xmlns:v=3D\"urn:schemas-microso= ft-com:vml\" xmlns:o=3D\"urn:schemas-microsoft-com:office:office\"><head><!--[= if gte mso 9]><xml><o:OfficeDocumentSettings><o:AllowPNG/><o:PixelsPerInch>= 96</o:PixelsPerInch></o:OfficeDocumentSettings></xml><![endif]--></head><bo= dy><div class=3D\"yahoo-style-wrap\" style=3D\"font-family:Helvetica Neue, Hel= vetica, Arial, sans-serif;font-size:13px;\"><div dir=3D\"ltr\" data-setdir=3D\"= false\"><a href=3D\"https://www.google.com/\" rel=3D\"nofollow\" target=3D\"_blan= k\" class=3D\"enhancr_card_5555517333\">Google</a></div><div><br></div><div id= =3D\"ydpe19b9cd9enhancr_card_5555517333\" class=3D\"ydpe19b9cd9yahoo-link-enha= ncr-card ydpe19b9cd9ymail-preserve-class ydpe19b9cd9ymail-preserve-style\" s= tyle=3D\"max-width:400px;font-family:&quot;Helvetica Neue&quot;, &quot;Segoe=  UI&quot;, Helvetica, Arial, sans-serif\" data-url=3D\"https://www.google.com= /\" data-type=3D\"YENHANCER\" data-size=3D\"MEDIUM\" contenteditable=3D\"false\"><= a href=3D\"https://www.google.com/\" style=3D\"text-decoration:none !important= ;color:#000 !important\" class=3D\"ydpe19b9cd9yahoo-enhancr-cardlink\" rel=3D\"= nofollow\" target=3D\"_blank\"><table class=3D\"ydpe19b9cd9card-wrapper ydpe19b= 9cd9yahoo-ignore-table\" style=3D\"max-width:400px\" cellspacing=3D\"0\" cellpad= ding=3D\"0\" border=3D\"0\"><tbody><tr><td width=3D\"400\"><table class=3D\"ydpe19= b9cd9card ydpe19b9cd9yahoo-ignore-table\" style=3D\"max-width:400px;border-wi= dth:1px;border-style:solid;border-color:rgb(224, 228, 233);border-radius:2p= x\" width=3D\"100%\" cellspacing=3D\"0\" cellpadding=3D\"0\" border=3D\"0\"><tbody><= tr><td class=3D\"ydpe19b9cd9card-primary-image-cell\" style=3D\"background-col= or: rgb(0, 0, 0); background-repeat: no-repeat; background-size: cover; pos= ition: relative; border-radius: 2px 2px 0px 0px; min-height: 175px;\" valign= =3D\"top\" height=3D\"175\" bgcolor=3D\"#000000\" background=3D\"https://s.yimg.co= m/lo/api/res/1.2/3F2Zo6ZQv9jiAqZm8bbAqQ--~A/Zmk9ZmlsbDt3PTQwMDtoPTIwMDthcHB= pZD1pZXh0cmFjdA--/https://www.google.com/images/branding/googlelogo/1x/goog= lelogo_white_background_color_272x92dp.png.cf.jpg\"><!--[if gte mso 9]><v:re= ct fill=3D\"true\" stroke=3D\"false\" style=3D\"width:396px;height:175px;positio= n:absolute;top:0;left:0;\"><v:fill type=3D\"frame\" color=3D\"#000000\" src=3D\"h= ttps://s.yimg.com/lo/api/res/1.2/3F2Zo6ZQv9jiAqZm8bbAqQ--~A/Zmk9ZmlsbDt3PTQ= wMDtoPTIwMDthcHBpZD1pZXh0cmFjdA--/https://www.google.com/images/branding/go= oglelogo/1x/googlelogo_white_background_color_272x92dp.png.cf.jpg\"/></v:rec= t><![endif]--><table class=3D\"ydpe19b9cd9card-overlay-container-table ydpe1= 9b9cd9yahoo-ignore-table\" style=3D\"width:100%\" cellspacing=3D\"0\" cellpaddin= g=3D\"0\" border=3D\"0\"><tbody><tr><td class=3D\"ydpe19b9cd9card-overlay-cell\" = style=3D\"background-color: transparent; border-radius: 2px 2px 0px 0px; min= -height: 175px;\" valign=3D\"top\" bgcolor=3D\"transparent\" background=3D\"https= ://s.yimg.com/cv/ae/nq/storm/assets/enhancrV21/1/enhancr_gradient-400x175.p= ng\"><!--[if gte mso 9]><v:rect fill=3D\"true\" stroke=3D\"false\" style=3D\"widt= h:396px;height:175px;position:absolute;top:-18px;left:0;\"><v:fill type=3D\"p= attern\" color=3D\"#000000\" src=3D\"https://s.yimg.com/cv/ae/nq/storm/assets/e= nhancrV21/1/enhancr_gradient-400x175.png\"/><v:textbox inset=3D\"0,0,20px,0\">= <![endif]--><table class=3D\"ydpe19b9cd9yahoo-ignore-table\" style=3D\"width: = 100%; min-height: 175px;\" height=3D\"175\" border=3D\"0\"><tbody><tr><td class= =3D\"ydpe19b9cd9card-richInfo2\" style=3D\"text-align:left;padding:15px 0 0 15= px;vertical-align:top\"></td><td class=3D\"ydpe19b9cd9card-actions\" style=3D\"= text-align:right;padding:15px 15px 0 0;vertical-align:top\"><div class=3D\"yd= pe19b9cd9card-share-container\"></div></td></tr></tbody></table><!--[if gte = mso 9]></v:textbox></v:rect><![endif]--></td></tr></tbody></table></td></tr= ><tr><td><table class=3D\"ydpe19b9cd9card-info ydpe19b9cd9yahoo-ignore-table= \" style=3D\"background-color: rgb(255, 255, 255); background-repeat: repeat;=  background-attachment: scroll; background-image: none; background-size: au= to; position: relative; z-index: 2; width: 100%; max-width: 400px; border-r= adius: 0px 0px 2px 2px; border-top: 1px solid rgb(224, 228, 233);\" cellspac= ing=3D\"0\" cellpadding=3D\"0\" border=3D\"0\" align=3D\"center\"><tbody><tr><td st= yle=3D\"background-color:#ffffff;padding:16px 0 16px 12px;vertical-align:top= ;border-radius:0 0 0 2px\"><img class=3D\"ydpe19b9cd9card-object-1 ydpe19b9cd= 9yahoo-ignore-inline-image ydpe19b9cd9ymail-preserve-class\" src=3D\"https://= s.yimg.com/nq/storm/assets/enhancrV2/23/logos/google.png\" style=3D\"min-widt= h:36px;margin-top:3px\" height=3D\"36\"></td><td style=3D\"vertical-align:middl= e;padding:12px 24px 16px 12px;width:99%;font-family:&quot;Helvetica Neue&qu= ot;, &quot;Segoe UI&quot;, Helvetica, Arial, sans-serif;border-radius:0 0 2= px 0\"><h2 class=3D\"ydpe19b9cd9card-title\" style=3D\"font-size: 14px; line-he= ight: 19px; margin: 0px 0px 6px; font-family: &quot;Helvetica Neue&quot;, &= quot;Segoe UI&quot;, Helvetica, Arial, sans-serif; color: rgb(38, 40, 42);\"= >Google</h2><p class=3D\"ydpe19b9cd9card-description\" style=3D\"font-size: 12= px; line-height: 16px; margin: 0px; color: rgb(151, 155, 167);\">Search the = \"world's information, including webpages, images, videos and more. Google ha=\" s many special features to...</p></td></tr></tbody></table></td></tr></tbod= y></table></td></tr></tbody></table></a></div><div><br></div><div><br></div= ></div></body></html> ------=_Part_353958_1921266805.1564615380117--\n",
      "Urls:  ['http://www.w3.org/1999/xhtml', 'https://www.google.com/', 'https://www.google.com=', 'https://www.google.com/', 'https://s.yimg.co=', 'https://www.google.com/images/branding/googlelogo/1x/goog=', 'https://www.google.com/images/branding/go=', 'https://s.yimg.com/cv/ae/nq/storm/assets/e=', 'https://=']\n"
     ]
    }
   ],
   "source": [
    "text = ''\n",
    "\n",
    "for message in test_messages:\n",
    "    text = \" \".join([str(line).strip('b').strip(\"'\") for line in message])\n",
    "    urls = re.findall('http[s]?://(?:[a-zA-Z]|[0-9]|[$-_@.&+]|[!*\\(\\),]|(?:%[0-9a-fA-F][0-9a-fA-F]))+', text)\n",
    "    print(\"Original string: \",text)\n",
    "    print(\"Urls: \",urls)"
   ]
  },
  {
   "cell_type": "code",
   "execution_count": 7,
   "metadata": {},
   "outputs": [
    {
     "data": {
      "text/plain": [
       "b'y></table></td></tr></tbody></table></a></div><div><br></div><div><br></div='"
      ]
     },
     "execution_count": 7,
     "metadata": {},
     "output_type": "execute_result"
    }
   ],
   "source": [
    "test_messages[0][-3]"
   ]
  },
  {
   "cell_type": "code",
   "execution_count": 14,
   "metadata": {},
   "outputs": [],
   "source": [
    "pattern = '<a.+href=\"(.+)\".*>(.*)<\\/a>'\n",
    "res = re.search(pattern, text)\n"
   ]
  },
  {
   "cell_type": "code",
   "execution_count": null,
   "metadata": {},
   "outputs": [],
   "source": [
    "for message in test_messages:\n",
    "    text = \" \".join([str(line).strip('b').strip(\"'\") for line in message])\n",
    "    pattern = '<a.+href=\"(.+)\".*>(.*)<\\/a>'\n",
    "    html='a href=\"https://www.google.com\">Click Here</a>'\n",
    "    \n",
    "    urls,text = re.search(pattern, html)[1:]\n",
    " "
   ]
  },
  {
   "cell_type": "code",
   "execution_count": null,
   "metadata": {},
   "outputs": [],
   "source": [
    "from requests import Session()\n",
    "\n",
    "r=s.get('https://www.google.com')"
   ]
  }
 ],
 "metadata": {
  "kernelspec": {
   "display_name": "Python 3",
   "language": "python",
   "name": "python3"
  },
  "language_info": {
   "codemirror_mode": {
    "name": "ipython",
    "version": 3
   },
   "file_extension": ".py",
   "mimetype": "text/x-python",
   "name": "python",
   "nbconvert_exporter": "python",
   "pygments_lexer": "ipython3",
   "version": "3.7.0"
  }
 },
 "nbformat": 4,
 "nbformat_minor": 2
}
