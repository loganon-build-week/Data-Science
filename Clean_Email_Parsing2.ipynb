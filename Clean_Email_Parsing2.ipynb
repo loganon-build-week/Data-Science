{
    "cells": [
        {
            "cell_type": "code",
            "execution_count": 20,
            "metadata": {},
            "outputs": [],
            "source": [
                "from decouple import config\n",
                "import poplib\n",
                "from email import message_from_bytes\n",
                "# import re\n",
                "\n",
                "EMAIL_HOST_USER = 'loganon000' #config('EMAIL_HOST_USER')\n",
                "EMAIL_HOST_PASSWORD = '42lambda' #config('EMAIL_HOST_PASSWORD')\n",
            ],
        },
        {
            "cell_type": "code",
            "execution_count": 2,
            "metadata": {},
            "outputs": [],
            "source": [
                "def get_messages(user, password, server = 'pop.gmail.com'):\n",
                "    \n",
                "    pop_conn = poplib.POP3_SSL(server)\n",
                "    pop_conn.user(user)\n",
                "    pop_conn.pass_(password)\n",
                "    pop_conn.utf8()\n",
                "    \n",
                "    #Get message tuples from server:\n",
                "    tuples = [pop_conn.retr(i)[1] for i in range(1, len(pop_conn.list()[1]) + 1)]\n",
                "    pop_conn.quit()\n",
                "#     messages = [msg[1] for msg in tuples]\n",
                '#     clean_text = [" ".join([str(line).strip(\'b\').strip("\'") for line in msg for msg in messages])]\n',
                "    return tuples",
            ],
        },
        {
            "cell_type": "code",
            "execution_count": 60,
            "metadata": {},
            "outputs": [],
            "source": [
                "def get_body(message):\n",
                "    em = message_from_bytes(b'\\n'.join(message))\n",
                "    if em.is_multipart():\n",
                "        return [part.get_payload(decode=True) for part in em.get_payload()]\n",
                "    else:\n",
                "        return (em.get_payload(decode=True))",
            ],
        },
        {
            "cell_type": "code",
            "execution_count": 3,
            "metadata": {},
            "outputs": [],
            "source": [
                "test_messages = get_messages(EMAIL_HOST_USER, EMAIL_HOST_PASSWORD)"
            ],
        },
        {
            "cell_type": "markdown",
            "metadata": {},
            "source": [
                "for message in test_messages:\n",
                '    text = " ".join([str(line).strip(\'b\').strip("\'") for line in message])\n',
                "    urls = re.findall('http[s]?://(?:[a-zA-Z]|[0-9]|[$-_@.&+]|[!*\\(\\),]|(?:%[0-9a-fA-F][0-9a-fA-F]))+', text)\n",
                '    print("Original string: ",text)\n',
                '    print("Urls: ",urls)',
            ],
        },
        {
            "cell_type": "code",
            "execution_count": 61,
            "metadata": {},
            "outputs": [
                {
                    "name": "stdout",
                    "output_type": "stream",
                    "text": [
                        '[b"Google\\n\\n| \\n| \\n| \\n|  |  |\\n\\n |\\n\\n |\\n| \\n|  | \\nGoogle\\n\\nSearch the world\'s information, including webpages, images, videos and more. Google has many special features to...\\n |\\n\\n |\\n\\n |\\n\\n\\n\\n", b\'<html xmlns="http://www.w3.org/1999/xhtml" xmlns:v="urn:schemas-microsoft-com:vml" xmlns:o="urn:schemas-microsoft-com:office:office"><head><!--[if gte mso 9]><xml><o:OfficeDocumentSettings><o:AllowPNG/><o:PixelsPerInch>96</o:PixelsPerInch></o:OfficeDocumentSettings></xml><![endif]--></head><body><div class="yahoo-style-wrap" style="font-family:Helvetica Neue, Helvetica, Arial, sans-serif;font-size:13px;"><div dir="ltr" data-setdir="false"><a href="https://www.google.com/" rel="nofollow" target="_blank" class="enhancr_card_5555517333">Google</a></div><div><br></div><div id="ydpe19b9cd9enhancr_card_5555517333" class="ydpe19b9cd9yahoo-link-enhancr-card ydpe19b9cd9ymail-preserve-class ydpe19b9cd9ymail-preserve-style" style="max-width:400px;font-family:&quot;Helvetica Neue&quot;, &quot;Segoe UI&quot;, Helvetica, Arial, sans-serif" data-url="https://www.google.com/" data-type="YENHANCER" data-size="MEDIUM" contenteditable="false"><a href="https://www.google.com/" style="text-decoration:none !important;color:#000 !important" class="ydpe19b9cd9yahoo-enhancr-cardlink" rel="nofollow" target="_blank"><table class="ydpe19b9cd9card-wrapper ydpe19b9cd9yahoo-ignore-table" style="max-width:400px" cellspacing="0" cellpadding="0" border="0"><tbody><tr><td width="400"><table class="ydpe19b9cd9card ydpe19b9cd9yahoo-ignore-table" style="max-width:400px;border-width:1px;border-style:solid;border-color:rgb(224, 228, 233);border-radius:2px" width="100%" cellspacing="0" cellpadding="0" border="0"><tbody><tr><td class="ydpe19b9cd9card-primary-image-cell" style="background-color: rgb(0, 0, 0); background-repeat: no-repeat; background-size: cover; position: relative; border-radius: 2px 2px 0px 0px; min-height: 175px;" valign="top" height="175" bgcolor="#000000" background="https://s.yimg.com/lo/api/res/1.2/3F2Zo6ZQv9jiAqZm8bbAqQ--~A/Zmk9ZmlsbDt3PTQwMDtoPTIwMDthcHBpZD1pZXh0cmFjdA--/https://www.google.com/images/branding/googlelogo/1x/googlelogo_white_background_color_272x92dp.png.cf.jpg"><!--[if gte mso 9]><v:rect fill="true" stroke="false" style="width:396px;height:175px;position:absolute;top:0;left:0;"><v:fill type="frame" color="#000000" src="https://s.yimg.com/lo/api/res/1.2/3F2Zo6ZQv9jiAqZm8bbAqQ--~A/Zmk9ZmlsbDt3PTQwMDtoPTIwMDthcHBpZD1pZXh0cmFjdA--/https://www.google.com/images/branding/googlelogo/1x/googlelogo_white_background_color_272x92dp.png.cf.jpg"/></v:rect><![endif]--><table class="ydpe19b9cd9card-overlay-container-table ydpe19b9cd9yahoo-ignore-table" style="width:100%" cellspacing="0" cellpadding="0" border="0"><tbody><tr><td class="ydpe19b9cd9card-overlay-cell" style="background-color: transparent; border-radius: 2px 2px 0px 0px; min-height: 175px;" valign="top" bgcolor="transparent" background="https://s.yimg.com/cv/ae/nq/storm/assets/enhancrV21/1/enhancr_gradient-400x175.png"><!--[if gte mso 9]><v:rect fill="true" stroke="false" style="width:396px;height:175px;position:absolute;top:-18px;left:0;"><v:fill type="pattern" color="#000000" src="https://s.yimg.com/cv/ae/nq/storm/assets/enhancrV21/1/enhancr_gradient-400x175.png"/><v:textbox inset="0,0,20px,0"><![endif]--><table class="ydpe19b9cd9yahoo-ignore-table" style="width: 100%; min-height: 175px;" height="175" border="0"><tbody><tr><td class="ydpe19b9cd9card-richInfo2" style="text-align:left;padding:15px 0 0 15px;vertical-align:top"></td><td class="ydpe19b9cd9card-actions" style="text-align:right;padding:15px 15px 0 0;vertical-align:top"><div class="ydpe19b9cd9card-share-container"></div></td></tr></tbody></table><!--[if gte mso 9]></v:textbox></v:rect><![endif]--></td></tr></tbody></table></td></tr><tr><td><table class="ydpe19b9cd9card-info ydpe19b9cd9yahoo-ignore-table" style="background-color: rgb(255, 255, 255); background-repeat: repeat; background-attachment: scroll; background-image: none; background-size: auto; position: relative; z-index: 2; width: 100%; max-width: 400px; border-radius: 0px 0px 2px 2px; border-top: 1px solid rgb(224, 228, 233);" cellspacing="0" cellpadding="0" border="0" align="center"><tbody><tr><td style="background-color:#ffffff;padding:16px 0 16px 12px;vertical-align:top;border-radius:0 0 0 2px"><img class="ydpe19b9cd9card-object-1 ydpe19b9cd9yahoo-ignore-inline-image ydpe19b9cd9ymail-preserve-class" src="https://s.yimg.com/nq/storm/assets/enhancrV2/23/logos/google.png" style="min-width:36px;margin-top:3px" height="36"></td><td style="vertical-align:middle;padding:12px 24px 16px 12px;width:99%;font-family:&quot;Helvetica Neue&quot;, &quot;Segoe UI&quot;, Helvetica, Arial, sans-serif;border-radius:0 0 2px 0"><h2 class="ydpe19b9cd9card-title" style="font-size: 14px; line-height: 19px; margin: 0px 0px 6px; font-family: &quot;Helvetica Neue&quot;, &quot;Segoe UI&quot;, Helvetica, Arial, sans-serif; color: rgb(38, 40, 42);">Google</h2><p class="ydpe19b9cd9card-description" style="font-size: 12px; line-height: 16px; margin: 0px; color: rgb(151, 155, 167);">Search the world\\\'s information, including webpages, images, videos and more. Google has many special features to...</p></td></tr></tbody></table></td></tr></tbody></table></td></tr></tbody></table></a></div><div><br></div><div><br></div></div></body></html>\']\n'
                    ],
                }
            ],
            "source": [
                "for message in test_messages:\n",
                "    print(get_body(message))",
            ],
        },
        {
            "cell_type": "code",
            "execution_count": 58,
            "metadata": {},
            "outputs": [
                {
                    "data": {
                        "text/plain": [
                            '\'<!doctype html><html itemscope="" itemtype="http://schema.org/WebPage" lang="en"><head><meta content="Search the world\\\'s information, including webpages, images, videos and more. Google has many special features to help you find exactly what you\\\'re looking for." name="description"><meta content="noodp" name="robots"><meta content="text/html; charset=UTF-8" http-equiv="Content-Type"><meta content="/images/branding/googleg/1x/googleg_standard_color_128dp.png" itemprop="image"><title>Google</title><script nonce="m6fs3CnErz1rpoff269VNA==">(function(){window.google={kEI:\\\'GDRCXaaZOIPQsAWc55WACw\\\',kEXPI:\\\'0,201970,1151834,1957,2423,1225,591,139,224,510,1065,3152,57,321,206,397,620,54,122,51,508,504,43,202,240,87,108,268,10,270,271,1133118,1197744,330,54,329140,1294,12383,4855,32691,15248,867,12163,6381,854,2481,2,2,6801,363,3320,5505,224,2218,5367,575,1119,2,204,374,728,2431,59,2,1,3,1297,4323,3700,1268,773,2255,1402,4483,9,8159,669,1050,1808,1478,7,1,2,488,2044,8909,4604,693,796,1220,958,753,120,37,1180,1364,1611,2736,1558,1503,2,631,2403,837,44,1767,2381,635,2619,620,2884,16,321,1118,902,1153,975,1,370,1316,79,1381,519,400,471,521,98,1187,10,107,2513,174,967,48,553,11,14,12,1267,1042,1170,25,177,168,155,5,1245,7,841,323,193,1466,56,158,662,2162,458,334,484,109,151,39,6,1142,1,3,7,7,1,2,1492,554,606,795,933,103,8,1,183,595,82,1100,17,126,377,258,102,326,1261,242,505,29,216,71,113,251,1,1,815,6,72,329,1283,16,84,135,201,82,505,1253,147,78,382,60,41,1361,28,209,607,91,10,143,185,45,115,394,646,23,161,500,229,501,557,671,1459,56,11,897,133,774,259,950,69,10,260,39,1,121,1097,94,497,56,1,356,110,767,22,2,263,186,247,680,280,308,980,22,377,114,183,12,140,365,104,654,415,5908884,11,1862,1137,8797522,1,1382,549,333,444,1,2,80,1,900,583,6,307,1,8,1,2,2132,1,1,1,1,1,414,1,748,141,59,726,3,7,563,1,3127,3,66,2,7,2,27,17,74,22303813,1362851\\\',authuser:0,kscs:\\\'c9c918f0_GDRCXaaZOIPQsAWc55WACw\\\',kGL:\\\'US\\\'};google.sn=\\\'webhp\\\';google.kHL=\\\'en\\\';google.jsfs=\\\'\\\';})();(function(){google.lc=[];google.li=0;google.getEI=function(a){for(var b;a&&(!a.getAttribute||!(b=a.getAttribute("eid")));)a=a.parentNode;return b||google.kEI};google.getLEI=function(a){for(var b=null;a&&(!a.getAttribute||!(b=a.getAttribute("leid")));)a=a.parentNode;return b};google.https=function(){return"https:"==window.location.protocol};google.ml=function(){return null};google.time=function(){return(new Date).getTime()};google.log=function(a,b,e,c,g){if(a=google.logUrl(a,b,e,c,g)){b=new Image;var d=google.lc,f=google.li;d[f]=b;b.onerror=b.onload=b.onabort=function(){delete d[f]};google.vel&&google.vel.lu&&google.vel.lu(a);b.src=a;google.li=f+1}};google.logUrl=function(a,b,e,c,g){var d="",f=google.ls||"";e||-1!=b.search("&ei=")||(d="&ei="+google.getEI(c),-1==b.search("&lei=")&&(c=google.getLEI(c))&&(d+="&lei="+c));c="";!e&&google.cshid&&-1==b.search("&cshid=")&&"slh"!=a&&(c="&cshid="+google.cshid);a=e||"/"+(g||"gen_204")+"?atyp=i&ct="+a+"&cad="+b+d+f+"&zx="+google.time()+c;/^http:/i.test(a)&&google.https()&&(google.ml(Error("a"),!1,{src:a,glmm:1}),a="");return a};}).call(this);(function(){google.y={};google.x=function(a,b){if(a)var c=a.id;else{do c=Math.random();while(google.y[c])}google.y[c]=[a,b];return!1};google.lm=[];google.plm=function(a){google.lm.push.apply(google.lm,a)};google.lq=[];google.load=function(a,b,c){google.lq.push([[a],b,c])};google.loadAll=function(a,b){google.lq.push([a,b])};}).call(this);google.f={};var a=window.location,b=a.href.indexOf("#");if(0<=b){var c=a.href.substring(b+1);/(^|&)q=/.test(c)&&-1==c.indexOf("#")&&a.replace("/search?"+c.replace(/(^|&)fp=[^&]*/g,"")+"&cad=h")};</script><style>#gbar,#guser{font-size:13px;padding-top:1px !important;}#gbar{height:22px}#guser{padding-bottom:7px !important;text-align:right}.gbh,.gbd{border-top:1px solid #c9d7f1;font-size:1px}.gbh{height:0;position:absolute;top:24px;width:100%}@media all{.gb1{height:22px;margin-right:.5em;vertical-align:top}#gbar{float:left}}a.gb1,a.gb4{text-decoration:underline !important}a.gb1,a.gb4{color:#00c !important}.gbi .gb4{color:#dd8e27 !important}.gbf .gb4{color:#900 !important}\\n</style><style>body,td,a,p,.h{font-family:arial,sans-serif}body{margin:0;overflow-y:scroll}#gog{padding:3px 8px 0}td{line-height:.8em}.gac_m td{line-height:17px}form{margin-bottom:20px}.h{color:#36c}.q{color:#00c}.ts td{padding:0}.ts{border-collapse:collapse}em{font-weight:bold;font-style:normal}.lst{height:25px;width:496px}.gsfi,.lst{font:18px arial,sans-serif}.gsfs{font:17px arial,sans-serif}.ds{display:inline-box;display:inline-block;margin:3px 0 4px;margin-left:4px}input{font-family:inherit}a.gb1,a.gb2,a.gb3,a.gb4{color:#11c !important}body{background:#fff;color:black}a{color:#11c;text-decoration:none}a:hover,a:active{text-decoration:underline}.fl a{color:#36c}a:visited{color:#551a8b}a.gb1,a.gb4{text-decoration:underline}a.gb3:hover{text-decoration:none}#ghead a.gb2:hover{color:#fff !important}.sblc{padding-top:5px}.sblc a{display:block;margin:2px 0;margin-left:13px;font-size:11px}.lsbb{background:#eee;border:solid 1px;border-color:#ccc #999 #999 #ccc;height:30px}.lsbb{display:block}.ftl,#fll a{display:inline-block;margin:0 12px}.lsb{background:url(/images/nav_logo229.png) 0 -261px repeat-x;border:none;color:#000;cursor:pointer;height:30px;margin:0;outline:0;font:15px arial,sans-serif;vertical-align:top}.lsb:active{background:#ccc}.lst:focus{outline:none}</style><script nonce="m6fs3CnErz1rpoff269VNA=="></script></head><body bgcolor="#fff"><script nonce="m6fs3CnErz1rpoff269VNA==">(function(){var src=\\\'/images/nav_logo229.png\\\';var iesg=false;document.body.onload = function(){window.n && window.n();if (document.images){new Image().src=src;}\\nif (!iesg){document.f&&document.f.q.focus();document.gbqf&&document.gbqf.q.focus();}\\n}\\n})();</script><div id="mngb"> <div id=gbar><nobr><b class=gb1>Search</b> <a class=gb1 href="https://www.google.com/imghp?hl=en&tab=wi">Images</a> <a class=gb1 href="https://maps.google.com/maps?hl=en&tab=wl">Maps</a> <a class=gb1 href="https://play.google.com/?hl=en&tab=w8">Play</a> <a class=gb1 href="https://www.youtube.com/?gl=US&tab=w1">YouTube</a> <a class=gb1 href="https://news.google.com/nwshp?hl=en&tab=wn">News</a> <a class=gb1 href="https://mail.google.com/mail/?tab=wm">Gmail</a> <a class=gb1 href="https://drive.google.com/?tab=wo">Drive</a> <a class=gb1 style="text-decoration:none" href="https://www.google.com/intl/en/about/products?tab=wh"><u>More</u> &raquo;</a></nobr></div><div id=guser width=100%><nobr><span id=gbn class=gbi></span><span id=gbf class=gbf></span><span id=gbe></span><a href="http://www.google.com/history/optout?hl=en" class=gb4>Web History</a> | <a  href="/preferences?hl=en" class=gb4>Settings</a> | <a target=_top id=gb_70 href="https://accounts.google.com/ServiceLogin?hl=en&passive=true&continue=https://www.google.com/" class=gb4>Sign in</a></nobr></div><div class=gbh style=left:0></div><div class=gbh style=right:0></div> </div><center><br clear="all" id="lgpd"><div id="lga"><img alt="Google" height="92" src="/images/branding/googlelogo/1x/googlelogo_white_background_color_272x92dp.png" style="padding:28px 0 14px" width="272" id="hplogo"><br><br></div><form action="/search" name="f"><table cellpadding="0" cellspacing="0"><tr valign="top"><td width="25%">&nbsp;</td><td align="center" nowrap=""><input name="ie" value="ISO-8859-1" type="hidden"><input value="en" name="hl" type="hidden"><input name="source" type="hidden" value="hp"><input name="biw" type="hidden"><input name="bih" type="hidden"><div class="ds" style="height:32px;margin:4px 0"><input style="color:#000;margin:0;padding:5px 8px 0 6px;vertical-align:top" autocomplete="off" class="lst" value="" title="Google Search" maxlength="2048" name="q" size="57"></div><br style="line-height:0"><span class="ds"><span class="lsbb"><input class="lsb" value="Google Search" name="btnG" type="submit"></span></span><span class="ds"><span class="lsbb"><input class="lsb" value="I\\\'m Feeling Lucky" name="btnI" onclick="if(this.form.q.value)this.checked=1; else top.location=\\\'/doodles/\\\'" type="submit"></span></span></td><td class="fl sblc" align="left" nowrap="" width="25%"><a href="/advanced_search?hl=en&amp;authuser=0">Advanced search</a><a href="/language_tools?hl=en&amp;authuser=0">Language tools</a></td></tr></table><input id="gbv" name="gbv" type="hidden" value="1"><script nonce="m6fs3CnErz1rpoff269VNA==">(function(){var a,b="1";if(document&&document.getElementById)if("undefined"!=typeof XMLHttpRequest)b="2";else if("undefined"!=typeof ActiveXObject){var c,d,e=["MSXML2.XMLHTTP.6.0","MSXML2.XMLHTTP.3.0","MSXML2.XMLHTTP","Microsoft.XMLHTTP"];for(c=0;d=e[c++];)try{new ActiveXObject(d),b="2"}catch(h){}}a=b;if("2"==a&&-1==location.search.indexOf("&gbv=2")){var f=google.gbvu,g=document.getElementById("gbv");g&&(g.value=a);f&&window.setTimeout(function(){location.href=f},0)};}).call(this);</script></form><div id="gac_scont"></div><div style="font-size:83%;min-height:3.5em"><br></div><span id="footer"><div style="font-size:10pt"><div style="margin:19px auto;text-align:center" id="fll"><a href="/intl/en/ads/">Advertising\\xa0Programs</a><a href="/services/">Business Solutions</a><a href="/intl/en/about.html">About Google</a></div></div><p style="color:#767676;font-size:8pt">&copy; 2019 - <a href="/intl/en/policies/privacy/">Privacy</a> - <a href="/intl/en/policies/terms/">Terms</a></p></span></center><script nonce="m6fs3CnErz1rpoff269VNA==">(function(){window.google.cdo={height:0,width:0};(function(){var a=window.innerWidth,b=window.innerHeight;if(!a||!b){var c=window.document,d="CSS1Compat"==c.compatMode?c.documentElement:c.body;a=d.clientWidth;b=d.clientHeight}a&&b&&(a!=google.cdo.width||b!=google.cdo.height)&&google.log("","","/client_204?&atyp=i&biw="+a+"&bih="+b+"&ei="+google.kEI);}).call(this);})();(function(){var u=\\\'/xjs/_/js/k\\\\x3dxjs.hp.en_US.BLjKPcsgy_0.O/m\\\\x3dsb_he,d/am\\\\x3dABbUBA/d\\\\x3d1/rs\\\\x3dACT90oHWBeImm24D83Ao9dZ510-6nTuXHA\\\';setTimeout(function(){var a=document.createElement("script");a.src=u;google.timers&&google.timers.load&&google.tick&&google.tick("load","xjsls");document.body.appendChild(a)},0);})();(function(){window.google.xjsu=\\\'/xjs/_/js/k\\\\x3dxjs.hp.en_US.BLjKPcsgy_0.O/m\\\\x3dsb_he,d/am\\\\x3dABbUBA/d\\\\x3d1/rs\\\\x3dACT90oHWBeImm24D83Ao9dZ510-6nTuXHA\\\';})();function _DumpException(e){throw e;}\\nfunction _F_installCss(c){}\\n(function(){google.spjs=false;google.snet=true;google.em=[];google.emw=false;})();google.sm=1;(function(){var pmc=\\\'{\\\\x22Qnk92g\\\\x22:{},\\\\x22RWGcrA\\\\x22:{},\\\\x22U5B21g\\\\x22:{},\\\\x22YFCs/g\\\\x22:{},\\\\x22ZI/YVQ\\\\x22:{},\\\\x22d\\\\x22:{},\\\\x22mVopag\\\\x22:{},\\\\x22sb_he\\\\x22:{\\\\x22agen\\\\x22:false,\\\\x22cgen\\\\x22:false,\\\\x22client\\\\x22:\\\\x22heirloom-hp\\\\x22,\\\\x22dh\\\\x22:true,\\\\x22dhqt\\\\x22:true,\\\\x22ds\\\\x22:\\\\x22\\\\x22,\\\\x22ffql\\\\x22:\\\\x22en\\\\x22,\\\\x22fl\\\\x22:true,\\\\x22host\\\\x22:\\\\x22google.com\\\\x22,\\\\x22isbh\\\\x22:28,\\\\x22jsonp\\\\x22:true,\\\\x22msgs\\\\x22:{\\\\x22cibl\\\\x22:\\\\x22Clear Search\\\\x22,\\\\x22dym\\\\x22:\\\\x22Did you mean:\\\\x22,\\\\x22lcky\\\\x22:\\\\x22I\\\\\\\\u0026#39;m Feeling Lucky\\\\x22,\\\\x22lml\\\\x22:\\\\x22Learn more\\\\x22,\\\\x22oskt\\\\x22:\\\\x22Input tools\\\\x22,\\\\x22psrc\\\\x22:\\\\x22This search was removed from your \\\\\\\\u003Ca href\\\\x3d\\\\\\\\\\\\x22/history\\\\\\\\\\\\x22\\\\\\\\u003EWeb History\\\\\\\\u003C/a\\\\\\\\u003E\\\\x22,\\\\x22psrl\\\\x22:\\\\x22Remove\\\\x22,\\\\x22sbit\\\\x22:\\\\x22Search by image\\\\x22,\\\\x22srch\\\\x22:\\\\x22Google Search\\\\x22},\\\\x22ovr\\\\x22:{},\\\\x22pq\\\\x22:\\\\x22\\\\x22,\\\\x22refpd\\\\x22:true,\\\\x22rfs\\\\x22:[],\\\\x22sbpl\\\\x22:24,\\\\x22sbpr\\\\x22:24,\\\\x22scd\\\\x22:10,\\\\x22sce\\\\x22:5,\\\\x22stok\\\\x22:\\\\x22SZPnZ4UZTix5Qos2A6g0yZWC62s\\\\x22,\\\\x22uhde\\\\x22:false}}\\\';google.pmc=JSON.parse(pmc);})();</script>        </body></html>\''
                        ]
                    },
                    "execution_count": 58,
                    "metadata": {},
                    "output_type": "execute_result",
                }
            ],
            "source": [
                "from requests import Session\n",
                "s = Session()\n",
                "\n",
                "r = s.get('https://www.google.com')\n",
                "r.text",
            ],
        },
    ],
    "metadata": {
        "kernelspec": {
            "display_name": "Python 3",
            "language": "python",
            "name": "python3",
        },
        "language_info": {
            "codemirror_mode": {"name": "ipython", "version": 3},
            "file_extension": ".py",
            "mimetype": "text/x-python",
            "name": "python",
            "nbconvert_exporter": "python",
            "pygments_lexer": "ipython3",
            "version": "3.7.3",
        },
    },
    "nbformat": 4,
    "nbformat_minor": 2,
}
