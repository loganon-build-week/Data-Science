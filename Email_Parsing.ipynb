{
 "cells": [
  {
   "cell_type": "code",
   "execution_count": 1,
   "metadata": {},
   "outputs": [],
   "source": [
    "from bs4 import BeautifulSoup\n",
    "from email import message_from_file"
   ]
  },
  {
   "cell_type": "code",
   "execution_count": 4,
   "metadata": {},
   "outputs": [],
   "source": [
    "import email\n",
    "import os\n",
    "\n",
    "path = './'\n",
    "listing = os.listdir(path)\n",
    "\n",
    "for fle in listing:\n",
    "    if str.lower(fle[-3:])==\"eml\":\n",
    "        msg = email.message_from_file(open(fle))\n",
    "        attachments=msg.get_payload()\n",
    "        for attachment in attachments:\n",
    "            try:\n",
    "                fnam=attachment.get_filename()\n",
    "                f=open(fnam, 'wb').write(attachment.get_payload(decode=True,))\n",
    "                f.close()\n",
    "            except Exception as detail:\n",
    "                #print detail\n",
    "                pass"
   ]
  },
  {
   "cell_type": "code",
   "execution_count": 8,
   "metadata": {},
   "outputs": [
    {
     "data": {
      "text/plain": [
       "'Delivered-To: nedderlander@gmail.com\\nReceived: by 2002:a67:fe84:0:0:0:0:0 with SMTP id b4csp11238773vsr;\\n        Wed, 24 Jul 2019 17:02:33 -0700 (PDT)\\nX-Google-Smtp-Source: APXvYqwTM+oX10JgVtfggB9IzDjxqEU96W3OSMdvqyo+rxd7kVwwmaZ4YBY6uExcV4bZAi3S+sE9\\nX-Received: by 2002:a05:6638:cf:: with SMTP id w15mr9823183jao.136.1564012952784;\\n        Wed, 24 Jul 2019 17:02:32 -0700 (PDT)\\nARC-Seal: i=1; a=rsa-sha256; t=1564012952; cv=none;\\n        d=google.com; s=arc-20160816;\\n        b=LmbMerw3mzgQtRREuXWtJoaig7vfYW3UqLx4sHmzmql/Zb6VajF5Ahu2V1+6yd2rD4\\n         l2ec9epwvIdKuQYZ5qUFi1YckGqtxlNY3coJoweUPP97+CyOF2LBOXBKocbkH4KnvV8x\\n         OuAIvd/wnuo0xRCpWZ7Y6NbWL9DQNOW1m5mQfKbWKVLE0P5x3sIJQygzvmih8hocD+Zj\\n         1H90cpTfVwt3HPELSj3QMFqwMVtud1v+eBYCamERm3Um4X0EHdF92oRD+k5BjGo2DEvH\\n         W5SbXY0rFlPz52oL141VRn/miFga3GkFhZJ5ouVGyJ1ov7pgYzrJeQ9vWzicKAxGbL9z\\n         Safw==\\nARC-Message-Signature: i=1; a=rsa-sha256; c=relaxed/relaxed; d=google.com; s=arc-20160816;\\n        h=content-transfer-encoding:date:message-id:mime-version:sender\\n         :reply-to:from:subject:to:dkim-signature;\\n        bh=YonCv2vugmcSW2C1adI6xReS271CWiVtInQAHohmEbA=;\\n        b=I6tvEF4Xt3S9QnwTnh7LnxQko9TNMpqlPkn3DFtUWiJNFmB73sGkeQM23f7/Gh8rD2\\n         9JHHO2zJbNiXGcVVSwqDaqJ8UYHWaKPM5N2MWoFssDSTl6Vh4Hfnh+lXGsI8sSx9WO02\\n         79xZ6xnwD4KetwcUq3PIcuebDWn/F/HPuWh/JA3EQ7WMSp9N5qbB4IkihVg+es8vN8vJ\\n         QoyoJysy+ukqQxiKFAWRvL19OvCpMNS2ceJa3bAbZczuHxNT9Kxhqfxi/jMhtbXcZ51d\\n         XTsFK7hEljMC1arkNZ+ygP7P574thVF0TkQhPunUQUEuZeI/SPO4yvw3ezEF33yq2cOc\\n         nSKA==\\nARC-Authentication-Results: i=1; mx.google.com;\\n       dkim=pass (test mode) header.i=@winehq.org header.s=20170406 header.b=SswQH0NW;\\n       spf=pass (google.com: domain of www-data@winehq.org designates 4.15.184.77 as permitted sender) smtp.mailfrom=www-data@winehq.org;\\n       dmarc=pass (p=NONE sp=NONE dis=NONE) header.from=winehq.org\\nReturn-Path: <www-data@winehq.org>\\nReceived: from winehq.org (winehq.org. [4.15.184.77])\\n        by mx.google.com with ESMTPS id h14si58150631ioh.31.2019.07.24.17.02.32\\n        for <nedderlander@gmail.com>\\n        (version=TLS1_2 cipher=ECDHE-RSA-AES128-GCM-SHA256 bits=128/128);\\n        Wed, 24 Jul 2019 17:02:32 -0700 (PDT)\\nReceived-SPF: pass (google.com: domain of www-data@winehq.org designates 4.15.184.77 as permitted sender) client-ip=4.15.184.77;\\nAuthentication-Results: mx.google.com;\\n       dkim=pass (test mode) header.i=@winehq.org header.s=20170406 header.b=SswQH0NW;\\n       spf=pass (google.com: domain of www-data@winehq.org designates 4.15.184.77 as permitted sender) smtp.mailfrom=www-data@winehq.org;\\n       dmarc=pass (p=NONE sp=NONE dis=NONE) header.from=winehq.org\\nDKIM-Signature: v=1; a=rsa-sha256; q=dns/txt; c=relaxed/relaxed; d=winehq.org; s=20170406;\\n\\th=Content-Transfer-Encoding:Content-Type:Date:Message-ID:MIME-Version:Sender:Reply-To:From:Subject:To; bh=YonCv2vugmcSW2C1adI6xReS271CWiVtInQAHohmEbA=;\\n\\tb=SswQH0NWkCKFeVUup2/IwAoExfmj/e4+nO4Zfta76eXeYyaveKVkar7v62UIeKcVdM+DyCnlLjmHggkowOJi5+7SRTG/x+BS+Yt+hdIUE7lp7NteMQC8Zbf70EWggdn9iCxlP37mLh6JzhjB0oAXgaviyF5Z4m64zOysMtOBCiw=;\\nReceived: from www-data by winehq.org with local (Exim 4.84_2)\\n\\t(envelope-from <www-data@winehq.org>)\\n\\tid 1hqRDM-0002dE-AZ\\n\\tfor nedderlander@gmail.com; Wed, 24 Jul 2019 19:02:32 -0500\\nTo: =?UTF-8?B?bmVkZGVybGFuZGVy?= <nedderlander@gmail.com>\\nSubject: =?UTF-8?B?V2VsY29tZSB0byAiV2luZUhRIEZvcnVtcyI=?=\\nX-PHP-Originating-Script: 2001:functions_messenger.php\\nFrom: <web-admin@winehq.org>\\nReply-To: <web-admin@winehq.org>\\nSender: <web-admin@winehq.org>\\nMIME-Version: 1.0\\nMessage-ID: <ff9b4bef6ba7a3b5155223340ef4a16f@forum.winehq.org>\\nDate: Wed, 24 Jul 2019 19:02:32 -0500\\nContent-Type: text/plain; charset=UTF-8\\nContent-Transfer-Encoding: 8bit\\nX-Priority: 3\\nX-MSMail-Priority: Normal\\nX-Mailer: phpBB3\\nX-MimeOLE: phpBB3\\nX-phpBB-Origin: phpbb://forum.winehq.org\\nX-AntiAbuse: Board servername - =?UTF-8?B?Zm9ydW0ud2luZWhxLm9yZw==?=\\nX-AntiAbuse: User_id - 1\\nX-AntiAbuse: Username - =?UTF-8?B?QW5vbnltb3Vz?=\\nX-AntiAbuse: User IP - 46.244.28.70\\n\\nWelcome to WineHQ Forums forums\\n\\nPlease keep this e-mail for your records. Your account information is as\\nfollows:\\n\\n----------------------------\\nUsername: nedderlander\\n\\nBoard URL: https://forum.winehq.org\\n----------------------------\\n\\nPlease visit the following link in order to activate your account:\\n\\nhttps://forum.winehq.org/ucp.php?mode=activate&u=156425&k=36AH13\\n\\nYour password has been securely stored in our database and cannot be\\nretrieved. In the event that it is forgotten, you will be able to reset it\\nusing the email address associated with your account.\\n\\nThank you for registering.\\n\\n-- \\nThanks, The Management\\n'"
      ]
     },
     "execution_count": 8,
     "metadata": {},
     "output_type": "execute_result"
    }
   ],
   "source": [
    "msg.as_string()"
   ]
  },
  {
   "cell_type": "code",
   "execution_count": null,
   "metadata": {},
   "outputs": [],
   "source": []
  }
 ],
 "metadata": {
  "kernelspec": {
   "display_name": "Python 3",
   "language": "python",
   "name": "python3"
  },
  "language_info": {
   "codemirror_mode": {
    "name": "ipython",
    "version": 3
   },
   "file_extension": ".py",
   "mimetype": "text/x-python",
   "name": "python",
   "nbconvert_exporter": "python",
   "pygments_lexer": "ipython3",
   "version": "3.7.3"
  }
 },
 "nbformat": 4,
 "nbformat_minor": 2
}
