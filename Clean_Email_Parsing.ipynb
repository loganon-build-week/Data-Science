{
 "cells": [
  {
   "cell_type": "code",
   "execution_count": 16,
   "metadata": {},
   "outputs": [],
   "source": [
    "from decouple import config\n",
    "import poplib\n",
    "from email import parser\n",
    "import re\n",
    "\n",
    "EMAIL_HOST_USER = 'loganon000' #config('EMAIL_HOST_USER')\n",
    "EMAIL_HOST_PASSWORD = '42lambda' #config('EMAIL_HOST_PASSWORD')\n"
   ]
  },
  {
   "cell_type": "code",
   "execution_count": 23,
   "metadata": {},
   "outputs": [],
   "source": [
    "def get_messages(user, password, server = 'pop.gmail.com'):\n",
    "    \n",
    "    pop_conn = poplib.POP3_SSL(server)\n",
    "    pop_conn.user(user)\n",
    "    pop_conn.pass_(password)\n",
    "    \n",
    "    #Get message tuples from server:\n",
    "    tuples = [pop_conn.retr(i) for i in range(1, len(pop_conn.list()[1]) + 1)]\n",
    "    pop_conn.quit()\n",
    "#     messages = [msg[1] for msg in tuples]\n",
    "#     clean_text = [\" \".join([str(line).strip('b').strip(\"'\") for line in msg for msg in messages])]\n",
    "    return tuples"
   ]
  },
  {
   "cell_type": "code",
   "execution_count": 24,
   "metadata": {},
   "outputs": [],
   "source": [
    "test = get_messages(EMAIL_HOST_USER, EMAIL_HOST_PASSWORD)"
   ]
  },
  {
   "cell_type": "code",
   "execution_count": 25,
   "metadata": {},
   "outputs": [],
   "source": [
    "test_messages = [msg[1] for msg in test]"
   ]
  },
  {
   "cell_type": "code",
   "execution_count": 26,
   "metadata": {},
   "outputs": [
    {
     "name": "stdout",
     "output_type": "stream",
     "text": [
      "Original string:  Delivered-To: loganon000@gmail.com Received: by 2002:a17:90a:2a02:0:0:0:0 with SMTP id i2csp6228269pjd;         Wed, 31 Jul 2019 10:38:14 -0700 (PDT) X-Google-Smtp-Source: APXvYqyd5lellyODVOmVkW+zShiNVWBXJpYEVH9l+1l6MswhpLFLnOhlAybmuPu+BrP9ktW843IM X-Received: by 2002:a02:ccd2:: with SMTP id k18mr23284042jaq.3.1564594694122;         Wed, 31 Jul 2019 10:38:14 -0700 (PDT) ARC-Seal: i=1; a=rsa-sha256; t=1564594694; cv=none;         d=google.com; s=arc-20160816;         b=k1pHBpxichr8ri6aSdzcKMG+kgRmUnrulAHbMtaRul8XNJc/heKUuAYAWPj/nh54us          k9QMTaJ0FMU9L+/Yn/HfWn95k+v6Ak5qO5MPbJi9D/f3RtuZbI6R6UW+j28O5oQnYyme          k4hztDR6Pb4g2BxhFl0V18aTJVuVx639JXKyeb0yp9jkyxuOaWvNZlbDWP/EDTOpx/OW          pBjR+Fw+akBKS5O5fq9iAMkz8E0SxzX/tDLZgqbeB+CYpSxig/y9H0Il+cGBXa999+Q8          v3grtu9c0GpJpLEyfml+65SQs4nHOCRC4Q074vZbM212ApjeZ2GDfQX/8i6emegPiz2k          oRuw== ARC-Message-Signature: i=1; a=rsa-sha256; c=relaxed/relaxed; d=google.com; s=arc-20160816;         h=references:mime-version:subject:message-id:to:from:date          :dkim-signature;         bh=LJrtqLf6lI3e5CucCBjHMColyg5nVki9TEustkL0VR4=;         b=yBojcusvbR/vgNdZc7mt3idrzFFj0FscbQCG1iUW/hvs7uDaDdVdXJdF/cLxQC2c+6          yHiPFulmqfuVt1e3pZlGl/VTJE8vFGjHaQ0X048nl46TGxffh7lZ7w8FRWYsrIIP0omQ          mA2Ye1v2gDDCPbIVYqOR8wN5cy6LxsvDrUKffEBAiL/8b8CGzowBVanzzMMpJMegIn6G          UD8B+qtKO0ybIXSFZIwpOSaz4FVHJq6ODGzgoa4FqDHNSbUe/zs4tmBXUkQ3eFIWeKzJ          eaXqBxgigN7cEJQ5Cfk+WUyfVXAaD1/PbIocS/vzCFN9en3OxNommuu0+T8RV/Mt/0o9          iAYg== ARC-Authentication-Results: i=1; mx.google.com;        dkim=pass header.i=@ymail.com header.s=s2048 header.b=lBX+rqCg;        spf=pass (google.com: domain of kevjab@ymail.com designates 74.6.131.124 as permitted sender) smtp.mailfrom=kevjab@ymail.com;        dmarc=pass (p=REJECT sp=REJECT dis=NONE) header.from=ymail.com Return-Path: <kevjab@ymail.com> Received: from sonic311-14.consmr.mail.bf2.yahoo.com (sonic311-14.consmr.mail.bf2.yahoo.com. [74.6.131.124])         by mx.google.com with ESMTPS id e21si1955538ioh.27.2019.07.31.10.38.13         for <loganon000@gmail.com>         (version=TLS1_2 cipher=ECDHE-RSA-AES128-GCM-SHA256 bits=128/128);         Wed, 31 Jul 2019 10:38:14 -0700 (PDT) Received-SPF: pass (google.com: domain of kevjab@ymail.com designates 74.6.131.124 as permitted sender) client-ip=74.6.131.124; Authentication-Results: mx.google.com;        dkim=pass header.i=@ymail.com header.s=s2048 header.b=lBX+rqCg;        spf=pass (google.com: domain of kevjab@ymail.com designates 74.6.131.124 as permitted sender) smtp.mailfrom=kevjab@ymail.com;        dmarc=pass (p=REJECT sp=REJECT dis=NONE) header.from=ymail.com DKIM-Signature: v=1; a=rsa-sha256; c=relaxed/relaxed; d=ymail.com; s=s2048; t=1564594693; bh=LJrtqLf6lI3e5CucCBjHMColyg5nVki9TEustkL0VR4=; h=Date:From:To:Subject:References:From:Subject; b=lBX+rqCg/9Y8dDnjl0364+hM3RjeZeQ0dW/4WWco5qoUozMJ6RlqB7DIjGtIu0zgANCRrD8bjanXDFg4jJkapgvKkwRm45ihcs1/L9mrE4b4dBrTGcfyY6pmrD0g7aSy6PCMIyJvUIfhDb5lDp9SB4COhuOAGoaR3yiruztjpvi2FpFszVS3TizenNj+oI81mTs7oCAwzjLJik91G6eFsWhxug+UjdXy74nQIGEtcE5K7gv/rtI7DaxZGDaDMQi5ILqaBAhGq2pHPTzo3LF7cCiZSutB7IbCfVvje8UEFkPKor/n0CkfV7tv8R2KIDcnOcZdRstBZ44F0yD6H0eVnw== X-YMail-OSG: 8LkXXhQVM1nDBzqfUooyCEkTjuREe7fWcX4mAiJbSinA_eUuDa.mtT9RxYJoYVn  1FXvfgOCTUh5I1nupusqMyPLdsZ6pX.E4J13XFkuhZNK8UW1d28niUwbTC1n4a9h8YzD4MKgNgIW  cMhrzzagq_tNDfoWhJ2PoiaSOo7XB2RkHOwXQ87kaHEIDj8XWd91KVVtICDW1MxJ3VkmHUwm09Fz  hR59mlxBqD031SQMZ5LT.yECpfj9HkwDOkJSJUgp81LVLpdzHCM7Nx0NXDO4yeI0yAX3zkykZXbn  9zzkaNo3lVNFTgNVWgQz.wpzSVdzkVvI7Jle1.v3wpa.xdx4rlzurwlwVxdipgdk.AbyjEqhH7Np  8Sbk1c9UlxJEWseL0rcveqlgNfQGr07VuPfjAYfdMb0ILneTcJ.HJUiXQo_4avN3ACAfs6lwCvKr  NFZmex1PQVDfYsxdoXMLbEYqHpbBBjLIYTY7HbbGTQTlyeH_sM8RwQFqln.EkVjiJy_daQEleLsZ  ilOMa6eUQKkYhzRt6r.eabYixr2YhU_7yw1_nBCdUqpJrP8Q71EoeW9h33a2us2YgDXVX.O_RCve  9ZWua1w3UqtpZV65fTxSlPNR1D4BoWzUBF0.UgvlOMh.ZPsj_yBfX8kdkzPeUKKU_auVl_9trdLw  UeBPovWtR2CdDO4t51qwYdZX31T9_2dlxQ2VMqiyQdbmu9nh89pkbm2eyBQYrRqRtfNyl1lbj_lL  JLqpZ4M2nbFiB.EDH0LRhv7uuleFxB9ZROuNIAcdckC5nrmjES9VHmnUSfXYQlCZAh8BC8JlznCV  5agubM2AeKQeKkUygJHXq1q7I1As3a62sWg677yUc2_.PlGbGQTsoBShwrMEBwiaLYNI2hCXXnGk  JvYnyo1drlXTbnUyWqZmXUggjMyeggYFF.6esx.Xkge5c19BglOmmx3cdK1o8czzPm0DCELxaVLQ  EYWfCenxT3H4mmFpfJ9L.k1vfDxrb7E16zqLQliU3yWmpeXRyZ7o7BsColuluEanMBemUoj4S9DM  RVyTBXwe2ncvmJrDFT3Pti08E0qOcM_JGRpoxPUue16uZYRXvQ.jaPn2J0AWQHfpOGCLsXLUMvTl  jPegM59kPeyui_9HfZGB_boukqWYmmCVebfrXm9ItF4rigm00n1Paw950knx2l1isxQNp6Pn66Rw  Y.NOiwIJOoga.ceWf4Y5HEmPhaxMRm8Yew2fxttXC50nLA9J8GS5Tr7vaYgRPH1AeOA_ql0k0CAt  pvbJi6rl.lzQBcEnJjKQ.lKjwh2Y9H3p9cizu4Sy9eSL2 Received: from sonic.gate.mail.ne1.yahoo.com by sonic311.consmr.mail.bf2.yahoo.com with HTTP; Wed, 31 Jul 2019 17:38:13 +0000 Date: Wed, 31 Jul 2019 17:38:08 +0000 (UTC) From: Kevona Webb <kevjab@ymail.com> To: \"loganon000@gmail.com\" <loganon000@gmail.com> Message-ID: <484898869.244732.1564594688434@mail.yahoo.com> Subject: url MIME-Version: 1.0 Content-Type: multipart/alternative;  \\tboundary=\"----=_Part_244731_1310724810.1564594688433\" References: <484898869.244732.1564594688434.ref@mail.yahoo.com> X-Mailer: WebService/1.1.13991 YMailNorrin Mozilla/5.0 (Windows NT 10.0; Win64; x64; rv:68.0) Gecko/20100101 Firefox/68.0 Content-Length: 709  ------=_Part_244731_1310724810.1564594688433 Content-Type: text/plain; charset=UTF-8 Content-Transfer-Encoding: 7bit  https://www.google.com/search?client=firefox-b-1-d&q=slack ------=_Part_244731_1310724810.1564594688433 Content-Type: text/html; charset=UTF-8 Content-Transfer-Encoding: 7bit  <html><head></head><body><div class=\"yahoo-style-wrap\" style=\"font-family:Helvetica Neue, Helvetica, Arial, sans-serif;font-size:13px;\"><div dir=\"ltr\" data-setdir=\"false\"><a href=\"https://www.google.com/search?client=firefox-b-1-d&amp;q=slack\" rel=\"nofollow\" target=\"_blank\">https://www.google.com/search?client=firefox-b-1-d&amp;q=slack</a></div></div></body></html> ------=_Part_244731_1310724810.1564594688433--\n",
      "Urls:  ['https://www.google.com/search?client=firefox-b-1-d&q=slack', 'https://www.google.com/search?client=firefox-b-1-d&amp;q=slack', 'https://www.google.com/search?client=firefox-b-1-d&amp;q=slack</a></div></div></body></html>']\n"
     ]
    }
   ],
   "source": [
    "for message in test_messages:\n",
    "    text = \" \".join([str(line).strip('b').strip(\"'\") for line in message])\n",
    "    urls = re.findall('http[s]?://(?:[a-zA-Z]|[0-9]|[$-_@.&+]|[!*\\(\\),]|(?:%[0-9a-fA-F][0-9a-fA-F]))+', text)\n",
    "    print(\"Original string: \",text)\n",
    "    print(\"Urls: \",urls)"
   ]
  },
  {
   "cell_type": "code",
   "execution_count": null,
   "metadata": {},
   "outputs": [],
   "source": []
  }
 ],
 "metadata": {
  "kernelspec": {
   "display_name": "Python 3",
   "language": "python",
   "name": "python3"
  },
  "language_info": {
   "codemirror_mode": {
    "name": "ipython",
    "version": 3
   },
   "file_extension": ".py",
   "mimetype": "text/x-python",
   "name": "python",
   "nbconvert_exporter": "python",
   "pygments_lexer": "ipython3",
   "version": "3.7.3"
  }
 },
 "nbformat": 4,
 "nbformat_minor": 2
}
