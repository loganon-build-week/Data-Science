{
    "cells": [
        {
            "cell_type": "code",
            "execution_count": 1,
            "metadata": {},
            "outputs": [
                {
                    "name": "stdout",
                    "output_type": "stream",
                    "text": ["f91rtkYxeR6df7B6\n"],
                }
            ],
            "source": [
                "import random, string\n",
                "x = ''.join(random.choice(string.ascii_uppercase + string.ascii_lowercase + string.digits) for _ in range(16))\n",
                "print(x)",
            ],
        },
        {
            "cell_type": "code",
            "execution_count": 3,
            "metadata": {},
            "outputs": [
                {
                    "name": "stdout",
                    "output_type": "stream",
                    "text": ["2pft4hXRy94KIGjb\n"],
                }
            ],
            "source": [
                "x = ''.join(random.choice(string.ascii_uppercase + string.ascii_lowercase + string.digits) for _ in range(16))\n",
                "print(x)",
            ],
        },
        {
            "cell_type": "code",
            "execution_count": 20,
            "metadata": {},
            "outputs": [],
            "source": [
                "def new_email_address(length=16):\n",
                '    """\n',
                "    Generates a random prefix and attaches it to a loganon email address\n",
                '    """\n',
                "    tail = '@loganon.33mail.com'\n",
                "\n",
                "    prefix = ''.join(random.choice(string.ascii_uppercase + \n",
                "                    string.ascii_lowercase + string.digits) for _ in range(length))\n",
                "    \n",
                "    return prefix + tail",
            ],
        },
        {
            "cell_type": "code",
            "execution_count": 30,
            "metadata": {},
            "outputs": [
                {
                    "name": "stdout",
                    "output_type": "stream",
                    "text": ["W2jaxJCTwC02Lwqg@loganon.33mail.com\n"],
                }
            ],
            "source": ["x = new_email_address()\n", "print(x)"],
        },
        {
            "cell_type": "code",
            "execution_count": 31,
            "metadata": {},
            "outputs": [],
            "source": [
                "def generate_password(length=16):\n",
                '    """\n',
                "    Generates a random password, default length 16\n",
                '    """\n',
                "    password = ''.join(random.choice(string.ascii_uppercase + string.punctuation + \n",
                "                    string.ascii_lowercase + string.digits) for _ in range(length))\n",
                "    return password",
            ],
        },
        {
            "cell_type": "code",
            "execution_count": 39,
            "metadata": {},
            "outputs": [
                {
                    "data": {"text/plain": ["'Lz#Jj;4Lg|S\"MI~\\\\'"]},
                    "execution_count": 39,
                    "metadata": {},
                    "output_type": "execute_result",
                }
            ],
            "source": ["generate_password()"],
        },
    ],
    "metadata": {
        "kernelspec": {
            "display_name": "Python 3",
            "language": "python",
            "name": "python3",
        },
        "language_info": {
            "codemirror_mode": {"name": "ipython", "version": 3},
            "file_extension": ".py",
            "mimetype": "text/x-python",
            "name": "python",
            "nbconvert_exporter": "python",
            "pygments_lexer": "ipython3",
            "version": "3.7.3",
        },
    },
    "nbformat": 4,
    "nbformat_minor": 2,
}
